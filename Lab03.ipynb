{
 "cells": [
  {
   "cell_type": "markdown",
   "metadata": {},
   "source": [
    "---\n",
    "title: 'Lab03: Digit Recognition with Clustering'\n",
    "subtitle: \"MSDS 7331\"\n",
    "authors: \"Anthony Burton-Cordova, Will Jones, Nick Sager\"\n",
    "date: November 9, 2023\n",
    "jupyter: python3\n",
    "---"
   ]
  },
  {
   "cell_type": "markdown",
   "metadata": {},
   "source": [
    "## Business Understanding\n",
    "\n",
    "The data we are working with is part of the Modified National Institute of Standards and Technology (MNIST) digit recognition dataset for computer vision. The version we are using for this project is available from on [Kaggle](https://www.kaggle.com/competitions/digit-recognizer/overview).\n",
    "\n",
    "The MNIST dataset contains a large collection of 28x28 pixel grayscale images of handwritten digits (0 through 9). This dataset is very commonly used in machine learning, and the objective is to correctly classify the digit in each image. Identifying handwritten digits is a common problem in many business use cases; a classifier could be used to automatically read addresses on envelopes, to read handwritten numbers on bank checks for mobile deposit, or to help grade tests in an educational setting.\n",
    "\n",
    "For this project, we set out to explore the MNIST dataset using clustering techniques. Labels are available for this data, which makes it a good candidate for many other machine learning techniques. For example, the viability of Neural Networks for classifying digits has been well documented. In practice, labelling tens of thousands of handwritten digits may time and cost prohibitive. We believe that clustering has the potential to identify groups of similar digits, which could be more easily and efficiently labelled. This would allow generalization of handwriting recognition outside of digits, and even the English language. This would be especially useful in situations where labelling is cost prohibitive, or one just wants to do a rough grouping as part of the EDA on a fresh dataset. Labelling in this way could then serve as a preprocessing step for training more complex models. \n",
    "\n",
    "To evaluate our clustering analysis we will primarily use clustering metrics such as RAND, adj. RAND, inertia (SSE) and silhouette score to assess the performance of different clustering methods. We will then do a visual EDA or the digits in each cluster to assess whether it looks like the algorithm is working well. Finally, we will assess the accuracy in classifying digits after labelling the clusters. Although this is not necessarily a valid metric for assessing clustering performance, it provides useful validation for using this method on unlabelled data as a preprocessing step for supervised learning. Neural Networks regularly achieve accuracies of more than 99% on this dataset [@MNIST]. We do not expect to achieve this level of accuracy, but we do expect to be able to identify clusters of digits with similar characteristics. The clusters will also be visually evaluated for separation in order to judge the feasibility of using them as a preprocessing step for other machine learning techniques."
   ]
  },
  {
   "cell_type": "markdown",
   "metadata": {},
   "source": [
    "## Data Understanding 1\n"
   ]
  },
  {
   "cell_type": "markdown",
   "metadata": {},
   "source": [
    "The MNIST data comes in two comma separated value files for the training and test data. Each row in the files contains the label for the digit, followed by 784 columns of pixel values. The pixel values are stored as integers between 0 and 255, which represent the grayscale value of the pixel. The training data contains 42,000 records, and the test data contains 28,000 records. The test data doesn't contain labels, and is used to evaluate model performance when submitted to Kaggle."
   ]
  },
  {
   "cell_type": "code",
   "execution_count": 1,
   "metadata": {},
   "outputs": [
    {
     "name": "stdout",
     "output_type": "stream",
     "text": [
      "<class 'pandas.core.frame.DataFrame'>\n",
      "RangeIndex: 42000 entries, 0 to 41999\n",
      "Columns: 785 entries, label to pixel783\n",
      "dtypes: int64(785)\n",
      "memory usage: 251.5 MB\n",
      "None\n",
      "<class 'pandas.core.frame.DataFrame'>\n",
      "RangeIndex: 28000 entries, 0 to 27999\n",
      "Columns: 784 entries, pixel0 to pixel783\n",
      "dtypes: int64(784)\n",
      "memory usage: 167.5 MB\n",
      "None\n"
     ]
    },
    {
     "data": {
      "text/html": [
       "<div>\n",
       "<style scoped>\n",
       "    .dataframe tbody tr th:only-of-type {\n",
       "        vertical-align: middle;\n",
       "    }\n",
       "\n",
       "    .dataframe tbody tr th {\n",
       "        vertical-align: top;\n",
       "    }\n",
       "\n",
       "    .dataframe thead th {\n",
       "        text-align: right;\n",
       "    }\n",
       "</style>\n",
       "<table border=\"1\" class=\"dataframe\">\n",
       "  <thead>\n",
       "    <tr style=\"text-align: right;\">\n",
       "      <th></th>\n",
       "      <th>label</th>\n",
       "      <th>pixel0</th>\n",
       "      <th>pixel1</th>\n",
       "      <th>pixel2</th>\n",
       "      <th>pixel3</th>\n",
       "      <th>pixel4</th>\n",
       "      <th>pixel5</th>\n",
       "      <th>pixel6</th>\n",
       "      <th>pixel7</th>\n",
       "      <th>pixel8</th>\n",
       "      <th>...</th>\n",
       "      <th>pixel774</th>\n",
       "      <th>pixel775</th>\n",
       "      <th>pixel776</th>\n",
       "      <th>pixel777</th>\n",
       "      <th>pixel778</th>\n",
       "      <th>pixel779</th>\n",
       "      <th>pixel780</th>\n",
       "      <th>pixel781</th>\n",
       "      <th>pixel782</th>\n",
       "      <th>pixel783</th>\n",
       "    </tr>\n",
       "  </thead>\n",
       "  <tbody>\n",
       "    <tr>\n",
       "      <th>count</th>\n",
       "      <td>42000.000000</td>\n",
       "      <td>42000.0</td>\n",
       "      <td>42000.0</td>\n",
       "      <td>42000.0</td>\n",
       "      <td>42000.0</td>\n",
       "      <td>42000.0</td>\n",
       "      <td>42000.0</td>\n",
       "      <td>42000.0</td>\n",
       "      <td>42000.0</td>\n",
       "      <td>42000.0</td>\n",
       "      <td>...</td>\n",
       "      <td>42000.000000</td>\n",
       "      <td>42000.000000</td>\n",
       "      <td>42000.000000</td>\n",
       "      <td>42000.00000</td>\n",
       "      <td>42000.000000</td>\n",
       "      <td>42000.000000</td>\n",
       "      <td>42000.0</td>\n",
       "      <td>42000.0</td>\n",
       "      <td>42000.0</td>\n",
       "      <td>42000.0</td>\n",
       "    </tr>\n",
       "    <tr>\n",
       "      <th>mean</th>\n",
       "      <td>4.456643</td>\n",
       "      <td>0.0</td>\n",
       "      <td>0.0</td>\n",
       "      <td>0.0</td>\n",
       "      <td>0.0</td>\n",
       "      <td>0.0</td>\n",
       "      <td>0.0</td>\n",
       "      <td>0.0</td>\n",
       "      <td>0.0</td>\n",
       "      <td>0.0</td>\n",
       "      <td>...</td>\n",
       "      <td>0.219286</td>\n",
       "      <td>0.117095</td>\n",
       "      <td>0.059024</td>\n",
       "      <td>0.02019</td>\n",
       "      <td>0.017238</td>\n",
       "      <td>0.002857</td>\n",
       "      <td>0.0</td>\n",
       "      <td>0.0</td>\n",
       "      <td>0.0</td>\n",
       "      <td>0.0</td>\n",
       "    </tr>\n",
       "    <tr>\n",
       "      <th>std</th>\n",
       "      <td>2.887730</td>\n",
       "      <td>0.0</td>\n",
       "      <td>0.0</td>\n",
       "      <td>0.0</td>\n",
       "      <td>0.0</td>\n",
       "      <td>0.0</td>\n",
       "      <td>0.0</td>\n",
       "      <td>0.0</td>\n",
       "      <td>0.0</td>\n",
       "      <td>0.0</td>\n",
       "      <td>...</td>\n",
       "      <td>6.312890</td>\n",
       "      <td>4.633819</td>\n",
       "      <td>3.274488</td>\n",
       "      <td>1.75987</td>\n",
       "      <td>1.894498</td>\n",
       "      <td>0.414264</td>\n",
       "      <td>0.0</td>\n",
       "      <td>0.0</td>\n",
       "      <td>0.0</td>\n",
       "      <td>0.0</td>\n",
       "    </tr>\n",
       "    <tr>\n",
       "      <th>min</th>\n",
       "      <td>0.000000</td>\n",
       "      <td>0.0</td>\n",
       "      <td>0.0</td>\n",
       "      <td>0.0</td>\n",
       "      <td>0.0</td>\n",
       "      <td>0.0</td>\n",
       "      <td>0.0</td>\n",
       "      <td>0.0</td>\n",
       "      <td>0.0</td>\n",
       "      <td>0.0</td>\n",
       "      <td>...</td>\n",
       "      <td>0.000000</td>\n",
       "      <td>0.000000</td>\n",
       "      <td>0.000000</td>\n",
       "      <td>0.00000</td>\n",
       "      <td>0.000000</td>\n",
       "      <td>0.000000</td>\n",
       "      <td>0.0</td>\n",
       "      <td>0.0</td>\n",
       "      <td>0.0</td>\n",
       "      <td>0.0</td>\n",
       "    </tr>\n",
       "    <tr>\n",
       "      <th>25%</th>\n",
       "      <td>2.000000</td>\n",
       "      <td>0.0</td>\n",
       "      <td>0.0</td>\n",
       "      <td>0.0</td>\n",
       "      <td>0.0</td>\n",
       "      <td>0.0</td>\n",
       "      <td>0.0</td>\n",
       "      <td>0.0</td>\n",
       "      <td>0.0</td>\n",
       "      <td>0.0</td>\n",
       "      <td>...</td>\n",
       "      <td>0.000000</td>\n",
       "      <td>0.000000</td>\n",
       "      <td>0.000000</td>\n",
       "      <td>0.00000</td>\n",
       "      <td>0.000000</td>\n",
       "      <td>0.000000</td>\n",
       "      <td>0.0</td>\n",
       "      <td>0.0</td>\n",
       "      <td>0.0</td>\n",
       "      <td>0.0</td>\n",
       "    </tr>\n",
       "    <tr>\n",
       "      <th>50%</th>\n",
       "      <td>4.000000</td>\n",
       "      <td>0.0</td>\n",
       "      <td>0.0</td>\n",
       "      <td>0.0</td>\n",
       "      <td>0.0</td>\n",
       "      <td>0.0</td>\n",
       "      <td>0.0</td>\n",
       "      <td>0.0</td>\n",
       "      <td>0.0</td>\n",
       "      <td>0.0</td>\n",
       "      <td>...</td>\n",
       "      <td>0.000000</td>\n",
       "      <td>0.000000</td>\n",
       "      <td>0.000000</td>\n",
       "      <td>0.00000</td>\n",
       "      <td>0.000000</td>\n",
       "      <td>0.000000</td>\n",
       "      <td>0.0</td>\n",
       "      <td>0.0</td>\n",
       "      <td>0.0</td>\n",
       "      <td>0.0</td>\n",
       "    </tr>\n",
       "    <tr>\n",
       "      <th>75%</th>\n",
       "      <td>7.000000</td>\n",
       "      <td>0.0</td>\n",
       "      <td>0.0</td>\n",
       "      <td>0.0</td>\n",
       "      <td>0.0</td>\n",
       "      <td>0.0</td>\n",
       "      <td>0.0</td>\n",
       "      <td>0.0</td>\n",
       "      <td>0.0</td>\n",
       "      <td>0.0</td>\n",
       "      <td>...</td>\n",
       "      <td>0.000000</td>\n",
       "      <td>0.000000</td>\n",
       "      <td>0.000000</td>\n",
       "      <td>0.00000</td>\n",
       "      <td>0.000000</td>\n",
       "      <td>0.000000</td>\n",
       "      <td>0.0</td>\n",
       "      <td>0.0</td>\n",
       "      <td>0.0</td>\n",
       "      <td>0.0</td>\n",
       "    </tr>\n",
       "    <tr>\n",
       "      <th>max</th>\n",
       "      <td>9.000000</td>\n",
       "      <td>0.0</td>\n",
       "      <td>0.0</td>\n",
       "      <td>0.0</td>\n",
       "      <td>0.0</td>\n",
       "      <td>0.0</td>\n",
       "      <td>0.0</td>\n",
       "      <td>0.0</td>\n",
       "      <td>0.0</td>\n",
       "      <td>0.0</td>\n",
       "      <td>...</td>\n",
       "      <td>254.000000</td>\n",
       "      <td>254.000000</td>\n",
       "      <td>253.000000</td>\n",
       "      <td>253.00000</td>\n",
       "      <td>254.000000</td>\n",
       "      <td>62.000000</td>\n",
       "      <td>0.0</td>\n",
       "      <td>0.0</td>\n",
       "      <td>0.0</td>\n",
       "      <td>0.0</td>\n",
       "    </tr>\n",
       "  </tbody>\n",
       "</table>\n",
       "<p>8 rows × 785 columns</p>\n",
       "</div>"
      ],
      "text/plain": [
       "              label   pixel0   pixel1   pixel2   pixel3   pixel4   pixel5  \\\n",
       "count  42000.000000  42000.0  42000.0  42000.0  42000.0  42000.0  42000.0   \n",
       "mean       4.456643      0.0      0.0      0.0      0.0      0.0      0.0   \n",
       "std        2.887730      0.0      0.0      0.0      0.0      0.0      0.0   \n",
       "min        0.000000      0.0      0.0      0.0      0.0      0.0      0.0   \n",
       "25%        2.000000      0.0      0.0      0.0      0.0      0.0      0.0   \n",
       "50%        4.000000      0.0      0.0      0.0      0.0      0.0      0.0   \n",
       "75%        7.000000      0.0      0.0      0.0      0.0      0.0      0.0   \n",
       "max        9.000000      0.0      0.0      0.0      0.0      0.0      0.0   \n",
       "\n",
       "        pixel6   pixel7   pixel8  ...      pixel774      pixel775  \\\n",
       "count  42000.0  42000.0  42000.0  ...  42000.000000  42000.000000   \n",
       "mean       0.0      0.0      0.0  ...      0.219286      0.117095   \n",
       "std        0.0      0.0      0.0  ...      6.312890      4.633819   \n",
       "min        0.0      0.0      0.0  ...      0.000000      0.000000   \n",
       "25%        0.0      0.0      0.0  ...      0.000000      0.000000   \n",
       "50%        0.0      0.0      0.0  ...      0.000000      0.000000   \n",
       "75%        0.0      0.0      0.0  ...      0.000000      0.000000   \n",
       "max        0.0      0.0      0.0  ...    254.000000    254.000000   \n",
       "\n",
       "           pixel776     pixel777      pixel778      pixel779  pixel780  \\\n",
       "count  42000.000000  42000.00000  42000.000000  42000.000000   42000.0   \n",
       "mean       0.059024      0.02019      0.017238      0.002857       0.0   \n",
       "std        3.274488      1.75987      1.894498      0.414264       0.0   \n",
       "min        0.000000      0.00000      0.000000      0.000000       0.0   \n",
       "25%        0.000000      0.00000      0.000000      0.000000       0.0   \n",
       "50%        0.000000      0.00000      0.000000      0.000000       0.0   \n",
       "75%        0.000000      0.00000      0.000000      0.000000       0.0   \n",
       "max      253.000000    253.00000    254.000000     62.000000       0.0   \n",
       "\n",
       "       pixel781  pixel782  pixel783  \n",
       "count   42000.0   42000.0   42000.0  \n",
       "mean        0.0       0.0       0.0  \n",
       "std         0.0       0.0       0.0  \n",
       "min         0.0       0.0       0.0  \n",
       "25%         0.0       0.0       0.0  \n",
       "50%         0.0       0.0       0.0  \n",
       "75%         0.0       0.0       0.0  \n",
       "max         0.0       0.0       0.0  \n",
       "\n",
       "[8 rows x 785 columns]"
      ]
     },
     "execution_count": 1,
     "metadata": {},
     "output_type": "execute_result"
    }
   ],
   "source": [
    "import pandas as pd\n",
    "\n",
    "# Choose File\n",
    "# RawTrain = \"https://raw.githubusercontent.com/NickSager/DS7331_Projects/main/data/train.csv\"\n",
    "# RawTest = \"https://raw.githubusercontent.com/NickSager/DS7331_Projects/main/data/test.csv\"\n",
    "RawTrain = \"data/train.csv\"\n",
    "RawTest = \"data/test.csv\"\n",
    "\n",
    "# Read the CSV file\n",
    "train = pd.read_csv(RawTrain)\n",
    "test = pd.read_csv(RawTest)\n",
    "\n",
    "# Get info on the train dataset\n",
    "print(train.info())\n",
    "\n",
    "# Get info on the test dataset\n",
    "print(test.info())\n",
    "\n",
    "train.describe()"
   ]
  },
  {
   "cell_type": "markdown",
   "metadata": {},
   "source": [
    "The data appears to match the description."
   ]
  },
  {
   "cell_type": "markdown",
   "metadata": {},
   "source": [
    "### Verify Data Quality:\n",
    "\n",
    "First we will check whether there is any missing values in the dataset. If so, we will visualize where they are and how we will address them."
   ]
  },
  {
   "cell_type": "code",
   "execution_count": 2,
   "metadata": {},
   "outputs": [
    {
     "name": "stdout",
     "output_type": "stream",
     "text": [
      "count       785\n",
      "unique        1\n",
      "top       False\n",
      "freq        785\n",
      "dtype: object\n",
      "count       784\n",
      "unique        1\n",
      "top       False\n",
      "freq        784\n",
      "dtype: object\n"
     ]
    }
   ],
   "source": [
    "# Check whether train or test have any missing values:\n",
    "print(train.isnull().any().describe())\n",
    "print(test.isnull().any().describe())"
   ]
  },
  {
   "cell_type": "markdown",
   "metadata": {},
   "source": [
    "There are no missing values in the dataset."
   ]
  },
  {
   "cell_type": "code",
   "execution_count": 3,
   "metadata": {},
   "outputs": [],
   "source": [
    "# Not Needed:\n",
    "# import matplotlib.pyplot as plt\n",
    "# import seaborn as sns\n",
    "\n",
    "# # Heatmap for training data\n",
    "# plt.figure(figsize=(12, 6))\n",
    "# sns.heatmap(train.isnull(), cbar=False, cmap='viridis')\n",
    "# plt.title('Missing Values in Training Data')\n",
    "# plt.show()\n",
    "\n",
    "# # Heatmap for test data\n",
    "# plt.figure(figsize=(12, 6))\n",
    "# sns.heatmap(test.isnull(), cbar=False, cmap='viridis')\n",
    "# plt.title('Missing Values in Test Data')\n",
    "# plt.show()\n"
   ]
  },
  {
   "cell_type": "markdown",
   "metadata": {},
   "source": [
    "Next we will check if there are any duplicated records in the datasets:"
   ]
  },
  {
   "cell_type": "code",
   "execution_count": 4,
   "metadata": {},
   "outputs": [
    {
     "name": "stdout",
     "output_type": "stream",
     "text": [
      "<class 'pandas.core.frame.DataFrame'>\n",
      "Index: 0 entries\n",
      "Columns: 785 entries, label to pixel783\n",
      "dtypes: int64(785)\n",
      "memory usage: 0.0 bytes\n",
      "None\n",
      "<class 'pandas.core.frame.DataFrame'>\n",
      "Index: 0 entries\n",
      "Columns: 784 entries, pixel0 to pixel783\n",
      "dtypes: int64(784)\n",
      "memory usage: 0.0 bytes\n",
      "None\n"
     ]
    }
   ],
   "source": [
    "# Check for duplicate rows\n",
    "duplicates = train[train.duplicated()]\n",
    "print(duplicates.info())\n",
    "\n",
    "duplicates = test[test.duplicated()]\n",
    "print(duplicates.info())"
   ]
  },
  {
   "cell_type": "markdown",
   "metadata": {},
   "source": [
    "There are no duplicate rows in either dataset."
   ]
  },
  {
   "cell_type": "markdown",
   "metadata": {},
   "source": [
    "Next we will check for 'outliers'. Since the data is pixel values, we will check for values that are outside the range of 0 to 255. We will also check for unusual images by looking at the z-score of the sum of pixel values for each image. Since they are handwritten digits, we expect that the sum of pixel values will be similar for each image. Images outside of 3 standard deviations will be investigated further and may represent unusual images (e.g. images that are not digits, have colors reversed, etc.)."
   ]
  },
  {
   "cell_type": "code",
   "execution_count": 5,
   "metadata": {},
   "outputs": [
    {
     "name": "stdout",
     "output_type": "stream",
     "text": [
      "Train records with value > 255: 0\n",
      "Train records with value < 0: 0\n",
      "Test records with value > 255: 0\n",
      "Test records with value < 0: 0\n"
     ]
    }
   ],
   "source": [
    "# Check whether any values are outside the range of 0 to 255:\n",
    "print('Train records with value > 255:', train[train > 255].any().sum())\n",
    "print('Train records with value < 0:', train[train < 0].any().sum())\n",
    "\n",
    "print('Test records with value > 255:', test[test > 255].any().sum())\n",
    "print('Test records with value < 0:', test[test < 0].any().sum())"
   ]
  },
  {
   "cell_type": "markdown",
   "metadata": {},
   "source": [
    "There are no images with pixel values outside of the range of 0 to 255."
   ]
  },
  {
   "cell_type": "code",
   "execution_count": 6,
   "metadata": {},
   "outputs": [
    {
     "name": "stderr",
     "output_type": "stream",
     "text": [
      "/Users/nick/miniconda3/envs/ds/lib/python3.12/site-packages/seaborn/_oldcore.py:1498: FutureWarning: is_categorical_dtype is deprecated and will be removed in a future version. Use isinstance(dtype, CategoricalDtype) instead\n",
      "  if pd.api.types.is_categorical_dtype(vector):\n"
     ]
    },
    {
     "data": {
      "image/png": "[encoded data removed]",
      "text/plain": [
       "<Figure size 640x480 with 1 Axes>"
      ]
     },
     "metadata": {},
     "output_type": "display_data"
    },
    {
     "name": "stdout",
     "output_type": "stream",
     "text": [
      "count      140.000000\n",
      "mean     56014.321429\n",
      "std       3808.971383\n",
      "min      52092.000000\n",
      "25%      53148.250000\n",
      "50%      54790.000000\n",
      "75%      57342.250000\n",
      "max      70934.000000\n",
      "dtype: float64\n"
     ]
    }
   ],
   "source": [
    "import matplotlib.pyplot as plt\n",
    "import seaborn as sns\n",
    "from scipy import stats\n",
    "\n",
    "# Calculate Z-scores for the sum of pixel values:\n",
    "pixel_sum = test.iloc[1:, :].sum(axis=1)\n",
    "z_scores = stats.zscore(pixel_sum)\n",
    "outliers = pixel_sum[(z_scores > 3) | (z_scores < -3)]\n",
    "\n",
    "# Plot the distribution of pixel sums:\n",
    "sns.boxplot(x=pixel_sum)\n",
    "plt.title('Box Plot of Summed Pixel Values')\n",
    "plt.xlabel('Sum of Pixel Values')\n",
    "plt.show()\n",
    "\n",
    "print(outliers.describe())"
   ]
  },
  {
   "cell_type": "markdown",
   "metadata": {},
   "source": [
    "There are 140 records with a z-score greater than 3. We will view random images from this set to see if they are unusual:"
   ]
  },
  {
   "cell_type": "code",
   "execution_count": 7,
   "metadata": {},
   "outputs": [
    {
     "data": {
      "image/png": "[encoded data removed]",
      "text/plain": [
       "<Figure size 640x480 with 1 Axes>"
      ]
     },
     "metadata": {},
     "output_type": "display_data"
    }
   ],
   "source": [
    "import matplotlib.pyplot as plt\n",
    "import random\n",
    "\n",
    "# Select a random index from the outliers\n",
    "outlier_indexes = outliers.index\n",
    "random_outlier_index = random.choice(outlier_indexes)\n",
    "\n",
    "# Take the image data at the random index and reshape\n",
    "image_data = train.iloc[random_outlier_index, 1:].values\n",
    "image_matrix = image_data.reshape(28, 28)\n",
    "\n",
    "# Display the image\n",
    "plt.imshow(image_matrix, cmap='gray')\n",
    "plt.title(f'Random Outlier Image at Index: {random_outlier_index}')\n",
    "plt.axis('off')\n",
    "plt.show()"
   ]
  },
  {
   "cell_type": "markdown",
   "metadata": {},
   "source": [
    "The outliers all appear to be handwritten digits. There are some with especially broad strokes. Many appear to be digits with more complexity (8,3,5 for example). We will not remove these outliers."
   ]
  },
  {
   "cell_type": "markdown",
   "metadata": {},
   "source": [
    "## Data Understanding 2"
   ]
  },
  {
   "cell_type": "markdown",
   "metadata": {},
   "source": [
    "To better understand the data, we will visualize some aspects. We will look at the distribution of digits within the training data. We will also view some of the images to see what they look like."
   ]
  },
  {
   "cell_type": "code",
   "execution_count": 8,
   "metadata": {},
   "outputs": [
    {
     "name": "stderr",
     "output_type": "stream",
     "text": [
      "/Users/nick/miniconda3/envs/ds/lib/python3.12/site-packages/seaborn/_oldcore.py:1498: FutureWarning: is_categorical_dtype is deprecated and will be removed in a future version. Use isinstance(dtype, CategoricalDtype) instead\n",
      "  if pd.api.types.is_categorical_dtype(vector):\n",
      "/Users/nick/miniconda3/envs/ds/lib/python3.12/site-packages/seaborn/_oldcore.py:1498: FutureWarning: is_categorical_dtype is deprecated and will be removed in a future version. Use isinstance(dtype, CategoricalDtype) instead\n",
      "  if pd.api.types.is_categorical_dtype(vector):\n",
      "/Users/nick/miniconda3/envs/ds/lib/python3.12/site-packages/seaborn/_oldcore.py:1498: FutureWarning: is_categorical_dtype is deprecated and will be removed in a future version. Use isinstance(dtype, CategoricalDtype) instead\n",
      "  if pd.api.types.is_categorical_dtype(vector):\n"
     ]
    },
    {
     "data": {
      "image/png": "[encoded data removed]",
      "text/plain": [
       "<Figure size 640x480 with 1 Axes>"
      ]
     },
     "metadata": {},
     "output_type": "display_data"
    }
   ],
   "source": [
    "import seaborn as sns\n",
    "import matplotlib.pyplot as plt\n",
    "\n",
    "# Create a count plot of digits\n",
    "sns.countplot(x='label', data=train)\n",
    "\n",
    "plt.xlabel('Labels')\n",
    "plt.ylabel('Count')\n",
    "plt.title('Count of Each Label in the Dataset')\n",
    "\n",
    "plt.show()\n"
   ]
  },
  {
   "cell_type": "markdown",
   "metadata": {},
   "source": [
    "The digits in the training set appear uniformly distributed. Each label has approximately 4,000 samples or 10% of the dataset.\n",
    "\n",
    "Here are some random images from the training set:"
   ]
  },
  {
   "cell_type": "code",
   "execution_count": 9,
   "metadata": {},
   "outputs": [
    {
     "data": {
      "image/png": "[encoded data removed]",
      "text/plain": [
       "<Figure size 1000x1000 with 5 Axes>"
      ]
     },
     "metadata": {},
     "output_type": "display_data"
    }
   ],
   "source": [
    "import numpy as np\n",
    "\n",
    "# Display five random images from the training set:\n",
    "def display_random_images(df, num_images):\n",
    "    # Generate random indexes\n",
    "    random_indexes = np.random.randint(0, len(df), num_images)\n",
    "\n",
    "    # Retrieve random images by these indexes\n",
    "    random_images = df.iloc[random_indexes, 1:].values\n",
    "\n",
    "    # Reshape the random images to 28x28\n",
    "    random_images = random_images.reshape(num_images, 28, 28)\n",
    "\n",
    "    # Plot the images\n",
    "    fig, axes = plt.subplots(1, num_images, figsize=(10, 10))\n",
    "\n",
    "    for i in range(num_images):\n",
    "        axes[i].imshow(random_images[i], cmap='gray')\n",
    "        axes[i].axis('off')\n",
    "\n",
    "    plt.show()\n",
    "    \n",
    "display_random_images(train, 5)"
   ]
  },
  {
   "cell_type": "markdown",
   "metadata": {},
   "source": [
    "Above are five examples of what the images look like."
   ]
  },
  {
   "cell_type": "markdown",
   "metadata": {},
   "source": [
    "### Data Preparation\n",
    "\n",
    "Next we will prepare the data for use in SciKit Learn. We will normalize the data by dividing each pixel value by 255, which will scale the values to between 0 and 1. We will also split the training set into training and validation subsets by using a Stratified Shuffle Split with 10% of the data used for validation."
   ]
  },
  {
   "cell_type": "code",
   "execution_count": 10,
   "metadata": {},
   "outputs": [],
   "source": [
    "from sklearn.model_selection import train_test_split\n",
    "\n",
    "# Prepare the data for use in modelling:\n",
    "y = train['label'].values\n",
    "X = train.drop('label', axis=1).values\n",
    "test_set = test.values\n",
    "\n",
    "# Normalize the pixel data for both train and test:\n",
    "X = X / 255.0\n",
    "test_set = test_set / 255.0\n",
    "\n",
    "# Split into training and test sets\n",
    "X_train, X_test, y_train, y_test= train_test_split(\n",
    "    X, y, test_size=0.1, random_state=137, stratify=y)"
   ]
  },
  {
   "cell_type": "markdown",
   "metadata": {},
   "source": [
    "## Modeling and Evaluation 1\n",
    "\n",
    "Train and adjust parameters"
   ]
  },
  {
   "cell_type": "markdown",
   "metadata": {},
   "source": [
    "The first thing we will do with the data is reduce the feature space using Principal Component Analysis (PCA). 784 features is fairly high. As shown below, we can explain most of the variance with just 100 principal components. Reducing the feature space will make clustering algorithms more efficient as it will reduce noise and help with the curse of dimensionality. The curse is that determining distance becomes more difficult in high-dimensional spaces because the distance between points becomes more similar as the number of dimensions increases. In addition to improving separation, reducing the feature space will also reduce the likelihood of overfitting, make some visualizations more possible, and require less processing power.\n",
    "\n",
    "We will use the first 100 principal components in this analysis, which explains approximately 95% of the variance in the data."
   ]
  },
  {
   "cell_type": "code",
   "execution_count": 11,
   "metadata": {},
   "outputs": [
    {
     "data": {
      "image/png": "[encoded data removed]",
      "text/plain": [
       "<Figure size 1000x600 with 1 Axes>"
      ]
     },
     "metadata": {},
     "output_type": "display_data"
    }
   ],
   "source": [
    "from sklearn.decomposition import PCA\n",
    "import matplotlib.pyplot as plt\n",
    "\n",
    "pca = PCA()\n",
    "pca.fit(X_train)\n",
    "\n",
    "explained_var = pca.explained_variance_ratio_\n",
    "cum_explained_var = np.cumsum(explained_var)\n",
    "\n",
    "plt.figure(figsize=(10, 6))\n",
    "plt.bar(range(len(explained_var)), explained_var, alpha=0.5, align='center', label='individual explained variance')\n",
    "plt.step(range(len(cum_explained_var)), cum_explained_var, where='mid',label='cumulative explained variance')\n",
    "plt.ylabel('Explained variance ratio')\n",
    "plt.xlabel('Principal components')\n",
    "plt.legend(loc='best')\n",
    "plt.tight_layout()\n",
    "plt.show()"
   ]
  },
  {
   "cell_type": "markdown",
   "metadata": {},
   "source": [
    "### KMeans Model\n",
    "\n",
    "KMeans is a clustering method that works by randomly initializing K centroids and then iteratively updating cluster assignments for the data to maximize seperation. It is best suited for data that forms roughly spherical clusters.\n",
    "\n",
    "Scikit-Learn's implementation of KMeans has several parameters which can take on different values. We will use a grid search to find the best parameters for our data. Because silhouette score is not natively available to tune the grid search one and we have the labels for the training data, we will use the adjusted RAND score. In an implementation where labels are truly not available, silhouette score or another alternative would be a better choice and one could implement a custom scorer."
   ]
  },
  {
   "cell_type": "code",
   "execution_count": 12,
   "metadata": {},
   "outputs": [],
   "source": [
    "from sklearn.pipeline import Pipeline\n",
    "from sklearn.decomposition import PCA\n",
    "from sklearn.cluster import KMeans\n",
    "from scipy.stats import mode\n",
    "from sklearn.metrics import accuracy_score\n",
    "\n",
    "# Define the number of components for PCA and the number of clusters for KMeans\n",
    "n_components = 100\n",
    "n_clusters = len(np.unique(y_train))\n",
    "\n",
    "# Create the pipeline\n",
    "pipeline = Pipeline([\n",
    "    ('pca', PCA(n_components=n_components)),\n",
    "    ('algorithm', KMeans(n_clusters=n_clusters, random_state=137, n_init='auto'))\n",
    "])\n"
   ]
  },
  {
   "cell_type": "markdown",
   "metadata": {},
   "source": [
    "Here we define a parameter grid to test different configurations of KMeans:"
   ]
  },
  {
   "cell_type": "code",
   "execution_count": 13,
   "metadata": {},
   "outputs": [],
   "source": [
    "from sklearn.model_selection import GridSearchCV\n",
    "\n",
    "# Define the parameter grid\n",
    "param_grid = {\n",
    "    'pca__n_components': [2, 10, 50, 100, 200],\n",
    "    'algorithm__init': ['k-means++', 'random'],\n",
    "    'algorithm__n_init': [1, 10, 20],\n",
    "    'algorithm__max_iter': [50, 300, 500]\n",
    "}\n",
    "\n",
    "# Create the GridSearchCV object\n",
    "grid_search = GridSearchCV(pipeline, param_grid, \n",
    "                           scoring='adjusted_rand_score', \n",
    "                           cv=5, n_jobs=-1, verbose=0)\n"
   ]
  },
  {
   "cell_type": "code",
   "execution_count": 14,
   "metadata": {},
   "outputs": [],
   "source": [
    "# Uncomment to run the grid search. Not necessary for notebook\n",
    "\n",
    "# grid_search.fit(X_train, y_train)"
   ]
  },
  {
   "cell_type": "code",
   "execution_count": 15,
   "metadata": {},
   "outputs": [],
   "source": [
    "# Uncomment to view the results of the grid search. Not necessary for notebook\n",
    "\n",
    "# import pandas as pd\n",
    "\n",
    "# # Extract the results from the grid search\n",
    "# results = pd.DataFrame(grid_search.cv_results_)\n",
    "# relevant_columns = ['params', 'mean_test_score', 'std_test_score', 'rank_test_score']\n",
    "# filtered_results = results[relevant_columns]\n",
    "# filtered_results = filtered_results.sort_values(by='mean_test_score', ascending=False)\n",
    "\n",
    "# # Display the results\n",
    "# pd.set_option('display.max_colwidth', None)\n",
    "# print(filtered_results)\n",
    "\n",
    "# print(\"Best parameters:\", grid_search.best_params_)\n",
    "# print(\"Best adjusted RAND score:\", grid_search.best_score_)"
   ]
  },
  {
   "cell_type": "markdown",
   "metadata": {},
   "source": [
    "There is a range of adjusted RAND scores for the parameters we have chosen. The best score is approximately 0.39, and the scores do not differ very much among the top performing configurations. In fact, the top configurations do not perform significantly differently than the default parameters for KMeans. Because this is the case, we will evaluate this algorithm on the defaults.\n",
    "\n",
    "The grid search results do inform us on the the performance of PCA. It is clear that 2 components is not enough to achieve good clustering performance, but 50 components is on par with best results. This also suggests that since 50 components explains less variance than 100 or 200, that the algorithm is running into dimensionality issues. We will use 100 components for the remainder of the analysis."
   ]
  },
  {
   "cell_type": "code",
   "execution_count": 16,
   "metadata": {},
   "outputs": [
    {
     "name": "stderr",
     "output_type": "stream",
     "text": [
      "/Users/nick/miniconda3/envs/ds/lib/python3.12/site-packages/sklearn/cluster/_kmeans.py:1412: FutureWarning: The default value of `n_init` will change from 10 to 'auto' in 1.4. Set the value of `n_init` explicitly to suppress the warning\n",
      "  super()._check_params_vs_input(X, default_n_init=10)\n"
     ]
    },
    {
     "data": {
      "text/plain": [
       "array([3, 5, 4, ..., 5, 4, 3], dtype=int32)"
      ]
     },
     "execution_count": 16,
     "metadata": {},
     "output_type": "execute_result"
    }
   ],
   "source": [
    "# There are two options, best parameters or default settings\n",
    "# Changing parameters doesn't seem to significantly change the results\n",
    "\n",
    "# model = KMeans(init = 'random',\n",
    "#                max_iter = 300,\n",
    "#                n_init=1)\n",
    "model = KMeans()\n",
    "\n",
    "pipeline.set_params(pca = PCA(n_components = 100)),\n",
    "pipeline.set_params(algorithm = model)\n",
    "\n",
    "pipeline.fit(X_train)\n",
    "kmeans_clusters = pipeline.predict(X_train)\n",
    "\n",
    "kmeans_clusters"
   ]
  },
  {
   "cell_type": "markdown",
   "metadata": {},
   "source": [
    "In the next step, we will assign the cluster the value of the mode of the labels for each cluster. This somewhat artificial step will allow us to evaluate the performance of the clustering algorithm by comparing the cluster labels to the true labels later in the analysis.\n",
    "\n",
    "In the case where there are no labels, this step would be done by visualizing the images in each cluster and manually assigning a label based on domain knowledge. We will simulate this in the visualization step, but using the mode of the labels is a good approximation."
   ]
  },
  {
   "cell_type": "code",
   "execution_count": 17,
   "metadata": {},
   "outputs": [
    {
     "name": "stdout",
     "output_type": "stream",
     "text": [
      "Cluster 8 is empty.\n",
      "Cluster 9 is empty.\n"
     ]
    }
   ],
   "source": [
    "km_cluster_labels = np.zeros_like(kmeans_clusters)\n",
    "\n",
    "for cluster in range(n_clusters):\n",
    "    mask = (kmeans_clusters == cluster)\n",
    "    if np.any(mask):\n",
    "        km_cluster_labels[mask] = mode(y_train[mask])[0]\n",
    "    else:\n",
    "        print(f\"Cluster {cluster} is empty.\")\n"
   ]
  },
  {
   "cell_type": "markdown",
   "metadata": {},
   "source": [
    "Although we assigned 10 clusters based on our knowledge of the data, the algorithm only finds eight distinct clusters. This likely means that there isn't enough separation between some of the digits using this algorithm. We will take this into account when selecting the best clustering algorithm."
   ]
  },
  {
   "cell_type": "code",
   "execution_count": 18,
   "metadata": {},
   "outputs": [
    {
     "name": "stdout",
     "output_type": "stream",
     "text": [
      "Silhouette Score: 0.0731\n",
      "RAND Index: 0.8748\n",
      "Adjusted RAND Index: 0.3961\n"
     ]
    }
   ],
   "source": [
    "from sklearn.metrics import silhouette_score\n",
    "from sklearn.metrics import adjusted_rand_score, rand_score\n",
    "# Note RAND indices are semi-cheating. They require true labels\n",
    "\n",
    "# Calculating the silhouette score\n",
    "# Note: using `clusters` skips the label assignment (semi-supervised) step\n",
    "km_silhouette = silhouette_score(X_train, kmeans_clusters)\n",
    "print(f\"Silhouette Score: {km_silhouette:.4f}\")\n",
    "\n",
    "# RAND score\n",
    "km_rand = rand_score(y_train, kmeans_clusters)\n",
    "print(f\"RAND Index: {km_rand:.4f}\")\n",
    "\n",
    "# Adjusted RAND score\n",
    "km_adjusted_rand = adjusted_rand_score(y_train, kmeans_clusters)\n",
    "print(f\"Adjusted RAND Index: {km_adjusted_rand:.4f}\")\n"
   ]
  },
  {
   "cell_type": "markdown",
   "metadata": {},
   "source": [
    "The KMeans algorithm performs differently depending on which metric is used. Based on RAND score, the algorithm appears close to optimal, but when controlling for chance (adjusted RAND) it does less well. That said, all three metrics are on the positive side of their ranges which suggests that this algorithm is adding value."
   ]
  },
  {
   "cell_type": "markdown",
   "metadata": {},
   "source": [
    "### Spectral Clustering Model\n",
    "\n",
    "Spectral Clustering is a method of dividing data into similar groups using graphs. The algorithm constructs a similarity matrix based on the distance between points, and then computes the eigenvectors of the matrix. The eigenvectors represent the data in a lower-dimensional space (spectral representation), and a traditional clustering method such as kmeans is used to find clusters from the spectral representation.\n",
    "\n",
    "This method is effective in cases where clusters are not well represented by a spherical structure. It can capture non-linear relationships and is often used in image segmentation, and graph analysis of networks. Spectral clustering is computationally intensive because of the eigenvalue decomposition and therefore doesn't scale well to large datasets. We expect this method to perform better on the MNIST dataset, but will not spend too much time on hyperparameter tuning because of the computational cost and the fact that SKLearn's implementation of Spectral Clustering does not have a predict method."
   ]
  },
  {
   "cell_type": "code",
   "execution_count": 19,
   "metadata": {},
   "outputs": [],
   "source": [
    "from sklearn.pipeline import Pipeline\n",
    "from sklearn.decomposition import PCA\n",
    "from sklearn.cluster import SpectralClustering\n",
    "from scipy.stats import mode\n",
    "\n",
    "# Define the number of components for PCA and the number of clusters for KMeans\n",
    "n_components = 100\n",
    "n_clusters = len(np.unique(y_train))\n",
    "\n",
    "# Create the pipeline\n",
    "pipeline = Pipeline([\n",
    "    ('pca', PCA(n_components=n_components)),\n",
    "    ('algorithm', SpectralClustering(n_jobs=-1, random_state=137))\n",
    "])\n"
   ]
  },
  {
   "cell_type": "markdown",
   "metadata": {},
   "source": [
    "We will define the Spectral Clustering algorithm using the default parameters. The grid search option is not available for this algorithm because it isn't meant to be used for prediction. Nested for loops could be used to evaluate different parameters, but this would be computationally expensive. Empirically, we haven't seen much improvement in clustering performance when deviating from the default parameters. We are also primarily concerned with the differences between the algorithms, and not the absolute performance of each. For these reasons, we will use the default parameters for Spectral Clustering and acknowledge that more tuning is possible once the best algorithm is selected."
   ]
  },
  {
   "cell_type": "code",
   "execution_count": 21,
   "metadata": {},
   "outputs": [
    {
     "data": {
      "text/plain": [
       "array([4, 1, 9, ..., 1, 3, 4], dtype=int32)"
      ]
     },
     "execution_count": 21,
     "metadata": {},
     "output_type": "execute_result"
    }
   ],
   "source": [
    "# Takes ~ 8 minutes to run with arpack. Takes ~ 15s with amg\n",
    "spc = SpectralClustering(n_clusters=n_clusters,\n",
    "                         eigen_solver='amg',         # default arpack. Other options: 'lobpcg', 'amg'\n",
    "                         affinity='nearest_neighbors',  # default nearest_neighbors. Other options: 'rbf'\n",
    "                         assign_labels='kmeans',        # default kmeans. Other options: 'discretize', 'cluster_qr'\n",
    "                         n_init=10,                     # default 10, only used for kmeans\n",
    "                         n_jobs=-1, random_state=137)\n",
    "pipeline.set_params(algorithm = spc)\n",
    "\n",
    "# pipeline.fit(X_train)\n",
    "spec_clusters = pipeline.fit_predict(X_train)\n",
    "\n",
    "spec_clusters"
   ]
  },
  {
   "cell_type": "markdown",
   "metadata": {},
   "source": [
    "As with KMeans, we will simulate visually labelling the clusters by assigning each cluster the mode of the digits it contains."
   ]
  },
  {
   "cell_type": "code",
   "execution_count": 22,
   "metadata": {},
   "outputs": [],
   "source": [
    "spec_cluster_labels = np.zeros_like(spec_clusters)\n",
    "\n",
    "for cluster in range(n_clusters):\n",
    "    mask = (spec_clusters == cluster)\n",
    "    if np.any(mask):\n",
    "        spec_cluster_labels[mask] = mode(y_train[mask])[0]\n",
    "    else:\n",
    "        print(f\"Cluster {cluster} is empty.\")\n"
   ]
  },
  {
   "cell_type": "markdown",
   "metadata": {},
   "source": [
    "We will evaluate the resulting clusters using the same metrics:"
   ]
  },
  {
   "cell_type": "code",
   "execution_count": 23,
   "metadata": {},
   "outputs": [
    {
     "name": "stdout",
     "output_type": "stream",
     "text": [
      "Silhouette Score: 0.0235\n",
      "RAND Index: 0.9234\n",
      "Adjusted RAND Index: 0.6192\n"
     ]
    }
   ],
   "source": [
    "from sklearn.metrics import silhouette_score\n",
    "from sklearn.metrics import adjusted_rand_score, rand_score\n",
    "# Note RAND indices are semi-cheating. They require true labels\n",
    "\n",
    "# Calculating the silhouette score\n",
    "# Note: using `clusters` skips the label assignment (semi-supervised) step\n",
    "spec_silhouette = silhouette_score(X_train, spec_clusters)\n",
    "print(f\"Silhouette Score: {spec_silhouette:.4f}\")\n",
    "\n",
    "# RAND score\n",
    "spec_rand = rand_score(y_train, spec_clusters)\n",
    "print(f\"RAND Index: {spec_rand:.4f}\")\n",
    "\n",
    "# Adjusted RAND score\n",
    "spec_adjusted_rand = adjusted_rand_score(y_train, spec_clusters)\n",
    "print(f\"Adjusted RAND Index: {spec_adjusted_rand:.4f}\")"
   ]
  },
  {
   "cell_type": "markdown",
   "metadata": {},
   "source": [
    "The Spectral Clustering algorithm has a similar Silhouette score to the KMeans model. The RAND score is slightly higher, and the adjusted RAND is much higher. This suggests that the MNIST data is not well represented by spherical clusters, which is in line with what we expected. For our use case, the adjusted RAND is probably the most important clustering metric."
   ]
  },
  {
   "cell_type": "markdown",
   "metadata": {},
   "source": [
    "### DBSCAN Model\n",
    "\n",
    "TODO: Quick EDA with DBSCAN. Cannot use to predict.\n",
    "\n",
    "MAYBE: Add agglomerative clustering above DBSCAN."
   ]
  },
  {
   "cell_type": "markdown",
   "metadata": {},
   "source": [
    "## Modeling and Evaluation 2\n",
    "\n",
    "Evaluate and Compare"
   ]
  },
  {
   "cell_type": "markdown",
   "metadata": {},
   "source": [
    "To evaluate the clustering algorithms, we will use the silhouette score, RAND Index, and Adjusted RAND Index.\n",
    "\n",
    "The silhouette score is the mean silhouette coefficient for all samples. The coefficient is measured by comparing the similarity (distance) of a sample to others in its cluster to that of the objects in the nearest cluster. It is a way to quantify how well-separated the clusters are, but may be misleading for high-dimensional data like the MNIST dataset is even after PCA. The metric also assumes the clusters are uniform and convex, which we have seen is not the case for the MNIST data.\n",
    "\n",
    "The RAND Index is a measure of similarity between two data clusterings. It compares the number of pairs of samples that are assigned to the same or different clusters. In our case, we are comparing the clustering algorithms to the true labels. Adjusted RAND takes into account chance pairings and is a more rigorous metric than the RAND Index. Both indices range from -1 to 1. A score of 1 indicates perfect agreement between the two clusterings, a score of 0 indicates random chance.\n",
    "\n",
    "Although we are evaluating the clustering algorithms for a use case where labels aren't available, it makes sense to use the labels from the MNIST dataset to compare how the methods have performed. This would be the primary metric of concern to someone using these algorithms to generate labels as a preprocessing step for supervised learning, so we will focus on the Adjusted RAND Index."
   ]
  },
  {
   "cell_type": "code",
   "execution_count": 38,
   "metadata": {},
   "outputs": [
    {
     "data": {
      "text/html": [
       "<style type=\"text/css\">\n",
       "#T_a6ca4_row0_col0, #T_a6ca4_row1_col1, #T_a6ca4_row1_col2 {\n",
       "  color: red;\n",
       "}\n",
       "</style>\n",
       "<table id=\"T_a6ca4\">\n",
       "  <thead>\n",
       "    <tr>\n",
       "      <th class=\"blank level0\" >&nbsp;</th>\n",
       "      <th id=\"T_a6ca4_level0_col0\" class=\"col_heading level0 col0\" >Silhouette Score</th>\n",
       "      <th id=\"T_a6ca4_level0_col1\" class=\"col_heading level0 col1\" >RAND Index</th>\n",
       "      <th id=\"T_a6ca4_level0_col2\" class=\"col_heading level0 col2\" >Adjusted RAND Index</th>\n",
       "    </tr>\n",
       "  </thead>\n",
       "  <tbody>\n",
       "    <tr>\n",
       "      <th id=\"T_a6ca4_level0_row0\" class=\"row_heading level0 row0\" >KMeans</th>\n",
       "      <td id=\"T_a6ca4_row0_col0\" class=\"data row0 col0\" >0.073126</td>\n",
       "      <td id=\"T_a6ca4_row0_col1\" class=\"data row0 col1\" >0.874814</td>\n",
       "      <td id=\"T_a6ca4_row0_col2\" class=\"data row0 col2\" >0.396076</td>\n",
       "    </tr>\n",
       "    <tr>\n",
       "      <th id=\"T_a6ca4_level0_row1\" class=\"row_heading level0 row1\" >Spectral Clustering</th>\n",
       "      <td id=\"T_a6ca4_row1_col0\" class=\"data row1 col0\" >0.023536</td>\n",
       "      <td id=\"T_a6ca4_row1_col1\" class=\"data row1 col1\" >0.923421</td>\n",
       "      <td id=\"T_a6ca4_row1_col2\" class=\"data row1 col2\" >0.619192</td>\n",
       "    </tr>\n",
       "  </tbody>\n",
       "</table>\n"
      ],
      "text/plain": [
       "<pandas.io.formats.style.Styler at 0x2df82f830>"
      ]
     },
     "execution_count": 38,
     "metadata": {},
     "output_type": "execute_result"
    }
   ],
   "source": [
    "import numpy as np\n",
    "import pandas as pd\n",
    "\n",
    "data = {\n",
    "    \"Silhouette Score\": [km_silhouette, spec_silhouette],\n",
    "    \"RAND Index\": [km_rand, spec_rand],\n",
    "    \"Adjusted RAND Index\": [km_adjusted_rand, spec_adjusted_rand]\n",
    "}\n",
    "\n",
    "df = pd.DataFrame(data, index=[\"KMeans\", \"Spectral Clustering\"])\n",
    "\n",
    "# Function to highlight the maximum in each column - GPT-4\n",
    "def highlight_max(s, props=''):\n",
    "    return np.where(s == np.nanmax(s.values), props, '')\n",
    "\n",
    "styled_df = df.style.apply(highlight_max, props='color:red;', axis=0)\n",
    "styled_df\n"
   ]
  },
  {
   "cell_type": "markdown",
   "metadata": {},
   "source": [
    "Based on the Adjusted RAND Index, the Spectral Clustering algorithm performs the best. This makes sense, since the digits are image data and are not likely to be represented well by spherical clusters."
   ]
  },
  {
   "cell_type": "markdown",
   "metadata": {},
   "source": [
    "As discussed, using classification is better accomplished with supervised learning methods. However, since our use case involves using clustering to help generate labels for unlabeled data, it makes sense to look at accuracy to learn more about how the algorithms perform.\n",
    "\n",
    "Our best performing clustering algorithm, Spectral Clustering, does not have the ability to make predictions on data outside the test set. We will instead define a K-Nearest Neighbors classifier using the training data and the cluster labels and use that to assign the test data to clusters. This calculation is done below using 50 nearest neighbors."
   ]
  },
  {
   "cell_type": "code",
   "execution_count": null,
   "metadata": {},
   "outputs": [
    {
     "name": "stdout",
     "output_type": "stream",
     "text": [
      "Test set Accuracy: 0.7333\n"
     ]
    }
   ],
   "source": [
    "# Test set accuracy of KNN prediction on Spectral Clusters\n",
    "from sklearn.neighbors import KNeighborsClassifier\n",
    "from sklearn.metrics import accuracy_score\n",
    "\n",
    "knn = KNeighborsClassifier(n_neighbors=50)\n",
    "knn.fit(X_train, spec_clusters)\n",
    "\n",
    "predicted_clusters = knn.predict(X_test)\n",
    "\n",
    "cluster_to_label_map = {}\n",
    "\n",
    "for cluster in range(n_clusters):\n",
    "    mask = (spec_clusters == cluster)\n",
    "    if np.any(mask):\n",
    "        # Map spectral cluster ID to its corresponding label\n",
    "        cluster_to_label_map[cluster] = mode(y_train[mask])[0]\n",
    "\n",
    "# Convert predicted cluster IDs to labels\n",
    "predicted_labels = np.array([cluster_to_label_map[cluster_id] for cluster_id in predicted_clusters])\n",
    "\n",
    "knn_spectral_accuracy = accuracy_score(y_test, predicted_labels)\n",
    "print(f\"Test set Accuracy: {knn_spectral_accuracy:.4f}\")"
   ]
  },
  {
   "cell_type": "markdown",
   "metadata": {},
   "source": [
    "Assigning the test data labels in this way results in an accuracy of 0.73. That is an admirable performance considering that the algorithm was unsupervised and the labels were generated post-hoc.\n",
    "\n",
    "In our proposed use case, this means that the labeler could start with clusters of images that are 73% correct and realize a significant time savings over manually labeling each image. Naively, this would result in approximately a 400% increase in efficiency. This is a very rough estimate, but it does suggest that this method could be useful in practice."
   ]
  },
  {
   "cell_type": "markdown",
   "metadata": {},
   "source": [
    "To learn more about the algorithm's performance we will also look at per class accuracy:"
   ]
  },
  {
   "cell_type": "code",
   "execution_count": 39,
   "metadata": {},
   "outputs": [
    {
     "name": "stdout",
     "output_type": "stream",
     "text": [
      "[[404   0   0   1   1   0   2   0   5   0]\n",
      " [  0 466   1   0   0   0   0   1   0   0]\n",
      " [  3  15 380   0   2   0   1  12   5   0]\n",
      " [  2   2   2 415   1   0   0   6   7   0]\n",
      " [  2   5   0   0 396   0   0   1   3   0]\n",
      " [  0   3   0 166   6   0   9   1 195   0]\n",
      " [  3   0   0   1   2   0 394   0  14   0]\n",
      " [  0  12   0   0  17   0   0 411   0   0]\n",
      " [  0  10   0 172   8   0   1   1 214   0]\n",
      " [  5   3   0  10 324   0   0  12  65   0]]\n",
      "Accuracy for class 0: 0.9782\n",
      "Accuracy for class 1: 0.9957\n",
      "Accuracy for class 2: 0.9091\n",
      "Accuracy for class 3: 0.9540\n",
      "Accuracy for class 4: 0.9730\n",
      "Accuracy for class 5: 0.0000\n",
      "Accuracy for class 6: 0.9517\n",
      "Accuracy for class 7: 0.9341\n",
      "Accuracy for class 8: 0.5271\n",
      "Accuracy for class 9: 0.0000\n"
     ]
    }
   ],
   "source": [
    "from sklearn.metrics import confusion_matrix\n",
    "import numpy as np\n",
    "\n",
    "# Confusion matrix\n",
    "cm = confusion_matrix(y_test, predicted_labels)\n",
    "print(cm)\n",
    "\n",
    "# Accuracy per class\n",
    "class_accuracies_test = cm.diagonal() / cm.sum(axis=1)\n",
    "for i, accuracy in enumerate(class_accuracies_test):\n",
    "    print(f\"Accuracy for class {i}: {accuracy:.4f}\")\n"
   ]
  },
  {
   "cell_type": "markdown",
   "metadata": {},
   "source": [
    "These results suggest that some digits have a very large degree of separation and the algorithm does quite well at grouping them together. The class accuracies for '0', '1', '3', '4', and '6' are all above 95%. The algorithm does have difficulty with '5', '8', and '9', in fact failing to label any cluster as '5' or '9'.\n",
    "\n",
    "Knowing these weak points could allow labelling efforts to be targeted toward the most difficult digits, saving further time and increasing accuracy."
   ]
  },
  {
   "cell_type": "markdown",
   "metadata": {},
   "source": [
    "## Modeling and Evaluation 3\n",
    "\n",
    "Visualize Results\n",
    "\n",
    "TODO: Write about visualizing results here"
   ]
  },
  {
   "cell_type": "code",
   "execution_count": null,
   "metadata": {},
   "outputs": [],
   "source": [
    "import matplotlib.pyplot as plt\n",
    "import random\n",
    "\n",
    "# Number of images per cluster to display\n",
    "num_images = 60\n",
    "num_rows = 2\n",
    "num_cols = num_images // num_rows\n",
    "\n",
    "# Access the PCA component from the pipeline\n",
    "pca = pipeline.named_steps['pca']\n",
    "\n",
    "for cluster in range(n_clusters):\n",
    "    # Find indexes of images in this cluster\n",
    "    indexes = np.where(spec_clusters == cluster)[0]\n",
    "\n",
    "    # Randomly select indexes\n",
    "    selected_indexes = random.sample(list(indexes), min(len(indexes), num_images))\n",
    "\n",
    "    # Plotting\n",
    "    plt.figure(figsize=(20, 2))\n",
    "    for i, index in enumerate(selected_indexes):\n",
    "        # Retrieve the PCA-transformed data for the selected index\n",
    "        pca_transformed_data = pca.transform(X_train[[index]])\n",
    "\n",
    "        # Inverse transform to reconstruct the image\n",
    "        reconstructed_image = pca.inverse_transform(pca_transformed_data)\n",
    "        image_matrix = reconstructed_image.reshape(28, 28)  # Reshape\n",
    "\n",
    "        plt.subplot(num_rows, num_cols, i + 1)\n",
    "        plt.imshow(image_matrix, cmap='gray')\n",
    "        plt.axis('off')\n",
    "\n",
    "    plt.suptitle(f'Cluster {cluster} - Labeled as {spec_cluster_labels[indexes[0]]}')\n",
    "    plt.show()\n"
   ]
  },
  {
   "cell_type": "code",
   "execution_count": null,
   "metadata": {},
   "outputs": [],
   "source": [
    "from sklearn.decomposition import PCA\n",
    "import matplotlib.pyplot as plt\n",
    "\n",
    "# Applying PCA\n",
    "pca = PCA(n_components=2)\n",
    "X_pca = pca.fit_transform(X_train)\n",
    "\n",
    "# Scatter plot\n",
    "for cluster in range(n_clusters):\n",
    "    plt.scatter(X_pca[spec_clusters == cluster, 0], X_pca[spec_clusters == cluster, 1], label=f'Cluster {cluster}')\n",
    "plt.xlabel('PCA Component 1')\n",
    "plt.ylabel('PCA Component 2')\n",
    "plt.title('Cluster Visualization with PCA')\n",
    "plt.legend()\n",
    "plt.show()\n"
   ]
  },
  {
   "cell_type": "markdown",
   "metadata": {},
   "source": [
    "## Modeling and Evaluation 4\n",
    "\n",
    "Summarize the Ramifications\n",
    "\n",
    "**Most Important Section**\n",
    "Write more, 2x points"
   ]
  },
  {
   "cell_type": "markdown",
   "metadata": {},
   "source": [
    "## Deployment"
   ]
  },
  {
   "cell_type": "markdown",
   "metadata": {},
   "source": [
    "## Exceptional Work\n",
    "\n",
    "Neural Network here for comparison purposes"
   ]
  },
  {
   "cell_type": "markdown",
   "metadata": {},
   "source": [
    "## References\n",
    "\n",
    "@misc{digit-recognizer,\n",
    "    author = {AstroDave, Will Cukierski},\n",
    "    title = {Digit Recognizer},\n",
    "    publisher = {Kaggle},\n",
    "    year = {2012},\n",
    "    url = {https://kaggle.com/competitions/digit-recognizer}\n",
    "}\n",
    "\n",
    "@misc{MNIST,\n",
    "    author = {Yann, LecCun, Corinna Cortes, Christopher J.C. Burges},\n",
    "    title = {The MNIST Database of Handwritten Digits},\n",
    "    publisher = {yan.lecun.com},\n",
    "    url = {http://yann.lecun.com/exdb/mnist/}\n",
    "}"
   ]
  }
 ],
 "metadata": {
  "kernelspec": {
   "display_name": "Python 3 (ipykernel)",
   "language": "python",
   "name": "python3"
  },
  "language_info": {
   "codemirror_mode": {
    "name": "ipython",
    "version": 3
   },
   "file_extension": ".py",
   "mimetype": "text/x-python",
   "name": "python",
   "nbconvert_exporter": "python",
   "pygments_lexer": "ipython3",
   "version": "3.12.0"
  }
 },
 "nbformat": 4,
 "nbformat_minor": 2
}
