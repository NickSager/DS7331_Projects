{
 "cells": [
  {
   "cell_type": "markdown",
   "metadata": {},
   "source": [
    "---\n",
    "title: 'Lab01: Arrythmia Detection'\n",
    "subtitle: \"MSDS 7331\"\n",
    "authors: \"Anthony Burton-Cordova, Will Jones, Nick Sager\"\n",
    "date: September 1, 2023\n",
    "jupyter: python3\n",
    "---"
   ]
  }
 ],
 "metadata": {
  "kernelspec": {
   "display_name": "base",
   "language": "python",
   "name": "python3"
  },
  "language_info": {
   "name": "python",
   "version": "3.10.10"
  },
  "orig_nbformat": 4
 },
 "nbformat": 4,
 "nbformat_minor": 2
}
