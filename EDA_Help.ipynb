{
 "cells": [
  {
   "cell_type": "code",
   "execution_count": 1,
   "metadata": {},
   "outputs": [
    {
     "name": "stderr",
     "output_type": "stream",
     "text": [
      "c:\\Users\\antho\\AppData\\Local\\Programs\\Python\\Python311\\Lib\\site-packages\\tqdm\\auto.py:21: TqdmWarning: IProgress not found. Please update jupyter and ipywidgets. See https://ipywidgets.readthedocs.io/en/stable/user_install.html\n",
      "  from .autonotebook import tqdm as notebook_tqdm\n",
      "Summarize dataset: 100%|██████████| 130/130 [00:07<00:00, 17.03it/s, Completed]                            \n",
      "Generate report structure: 100%|██████████| 1/1 [00:02<00:00,  2.88s/it]\n",
      "Render HTML: 100%|██████████| 1/1 [00:01<00:00,  1.23s/it]\n",
      "Export report to file: 100%|██████████| 1/1 [00:00<00:00, 111.12it/s]\n"
     ]
    }
   ],
   "source": [
    "import pandas as pd\n",
    "\n",
    "from ydata_profiling import ProfileReport\n",
    "\n",
    "# Choose File\n",
    "RawBank = \"https://raw.githubusercontent.com/NickSager/DS7331_Projects/main/data/bank-additional-full.csv\"\n",
    "\n",
    "# Read the CSV file with a semicolon ; separator\n",
    "df1 = pd.read_csv(RawBank, sep=';')\n",
    "\n",
    "#Run the Profile Report Code\n",
    "profile = ProfileReport(\n",
    "    df1, title=\"bank-additional-full.html\", explorative=True\n",
    "    )\n",
    "\n",
    "#Send the code to the HTML File\n",
    "profile.to_file(\"bank-additional-full.html\")\n",
    "\n",
    "##Report saved here C:\\Users\\antho\\AppData\\Local\\Programs\\Microsoft VS Code"
   ]
  }
 ],
 "metadata": {
  "kernelspec": {
   "display_name": "Python 3",
   "language": "python",
   "name": "python3"
  },
  "language_info": {
   "codemirror_mode": {
    "name": "ipython",
    "version": 3
   },
   "file_extension": ".py",
   "mimetype": "text/x-python",
   "name": "python",
   "nbconvert_exporter": "python",
   "pygments_lexer": "ipython3",
   "version": "3.11.5"
  }
 },
 "nbformat": 4,
 "nbformat_minor": 2
}
